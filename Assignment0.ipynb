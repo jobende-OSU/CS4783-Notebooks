{
  "nbformat": 4,
  "nbformat_minor": 0,
  "metadata": {
    "colab": {
      "name": "Assignment0.ipynb",
      "provenance": [],
      "authorship_tag": "ABX9TyNoE4rHjNIyi5eOKBej/yRg",
      "include_colab_link": true
    },
    "kernelspec": {
      "name": "python3",
      "display_name": "Python 3"
    },
    "language_info": {
      "name": "python"
    }
  },
  "cells": [
    {
      "cell_type": "markdown",
      "metadata": {
        "id": "view-in-github",
        "colab_type": "text"
      },
      "source": [
        "<a href=\"https://colab.research.google.com/github/jobende-OSU/CS4783-Notebooks/blob/main/Assignment0.ipynb\" target=\"_parent\"><img src=\"https://colab.research.google.com/assets/colab-badge.svg\" alt=\"Open In Colab\"/></a>"
      ]
    },
    {
      "cell_type": "markdown",
      "source": [
        "# Problem 1"
      ],
      "metadata": {
        "id": "EQG86Ammm9sj"
      }
    },
    {
      "cell_type": "code",
      "execution_count": null,
      "metadata": {
        "colab": {
          "base_uri": "https://localhost:8080/",
          "height": 762
        },
        "id": "vNg_BI25a6RC",
        "outputId": "c8361d14-7b5d-427a-94ae-0ef0b0ef7b9d"
      },
      "outputs": [
        {
          "output_type": "stream",
          "name": "stdout",
          "text": [
            "Dictionary Histogram\n",
            "{'a': 44, 'b': 24, 'c': 23, 'd': 30, 'e': 63, 'f': 22, 'g': 23, 'h': 25, 'i': 56, 'j': 23, 'k': 22, 'l': 26, 'm': 22, 'n': 28, 'o': 50, 'p': 25, 'q': 22, 'r': 40, 's': 25, 't': 36, 'u': 38, 'v': 22, 'w': 22, 'x': 22, 'y': 27, 'z': 23}\n",
            "\n",
            "NumPy Histogram\n",
            "[44 24 23 30 63 22 23 25 56 23 22 26 22 28 50 25 22 40 25 36 38 22 22 22\n",
            " 27 23]\n",
            "\n"
          ]
        },
        {
          "output_type": "display_data",
          "data": {
            "text/plain": [
              "<Figure size 720x720 with 2 Axes>"
            ],
            "image/png": "[encoded data removed]"
          },
          "metadata": {
            "needs_background": "light"
          }
        }
      ],
      "source": [
        "import io\n",
        "import numpy as np\n",
        "import matplotlib.pyplot as plt\n",
        "import matplotlib.ticker as mtick\n",
        "\n",
        "data = open(\"test.txt\")\n",
        "#print(data.read())\n",
        "\n",
        "# Dictionary Histogram\n",
        "hist = dict()\n",
        "for line in data:\n",
        "  for letter in line.lower():\n",
        "    if letter.isalpha():\n",
        "      if letter not in hist:\n",
        "        hist[letter] = 1\n",
        "      else:\n",
        "        hist[letter] += 1\n",
        "histDict = dict()\n",
        "\n",
        "# Sort the dictionary by key\n",
        "for char in sorted(hist.keys()):\n",
        "  histDict[char] = hist[char]\n",
        "print(\"Dictionary Histogram\")\n",
        "print(histDict)\n",
        "print()\n",
        "\n",
        "# NumPy Histogram\n",
        "histPy = np.array(list(histDict.values()))\n",
        "print(\"NumPy Histogram\")\n",
        "print(histPy)\n",
        "print()\n",
        "\n",
        "# Bar Graphs\n",
        "letters = list(histDict.keys())\n",
        "values = list(histDict.values())\n",
        "normal = [float(x) / sum(values) for x in values]\n",
        "plt.figure(figsize = (10, 10))\n",
        "\n",
        "# Normalized\n",
        "plt.subplot(2, 1, 1)\n",
        "plt.xlabel(\"Character\")\n",
        "plt.ylabel(\"Frequency (%)\")\n",
        "plt.title(\"Normalized Histogram\")\n",
        "plt.gca().yaxis.set_major_formatter(mtick.PercentFormatter(xmax=1))\n",
        "plt.bar(letters, normal, width = 0.4)\n",
        "\n",
        "# Unnormalized\n",
        "plt.subplot(2, 1, 2)\n",
        "plt.xlabel(\"Character\")\n",
        "plt.ylabel(\"Frequency (#)\")\n",
        "plt.title(\"Unnormalized Histogram\")\n",
        "plt.bar(letters, values, width = 0.4)\n",
        "plt.show()\n"
      ]
    },
    {
      "cell_type": "markdown",
      "source": [
        "# Problem 2"
      ],
      "metadata": {
        "id": "kTqH8Y3TnEUP"
      }
    },
    {
      "cell_type": "code",
      "source": [
        "import numpy as np\n",
        "import cv2\n",
        "\n",
        "img = cv2.imread(\"test.png\")\n",
        "\n",
        "# Operation 1\n",
        "for x in range(len(img)):\n",
        "  for y in range(len(img[x])):\n",
        "    point = img[x,y]\n",
        "\n",
        "    # Get Euclidean Distances\n",
        "    dist1 = np.linalg.norm(point - [255,0,0])\n",
        "    dist2 = np.linalg.norm(point - [0,255,0])\n",
        "    dist3 = np.linalg.norm(point - [0,0,255])\n",
        "    \n",
        "    # Set new value according to the minimum\n",
        "    minimum = min(dist1, min(dist2, dist3))\n",
        "    if minimum == dist1:\n",
        "      img[x,y] = [255, 0, 0]\n",
        "    elif minimum == dist2:\n",
        "      img[x,y] = [0, 255, 0]\n",
        "    else:\n",
        "      img[x,y] = [0, 0, 255]\n",
        "\n",
        "# Save Output\n",
        "cv2.imwrite(\"output1.png\", img)\n",
        "print(\"Done\")"
      ],
      "metadata": {
        "colab": {
          "base_uri": "https://localhost:8080/"
        },
        "id": "aKtQvClbkAxF",
        "outputId": "9e95a3a0-7aab-4286-cdc1-af79997ae043"
      },
      "execution_count": null,
      "outputs": [
        {
          "output_type": "stream",
          "name": "stdout",
          "text": [
            "Done\n"
          ]
        }
      ]
    },
    {
      "cell_type": "code",
      "source": [
        "import numpy as np\n",
        "import cv2\n",
        "\n",
        "img = cv2.imread(\"test.png\")\n",
        "\n",
        "# Operation 2\n",
        "\n",
        "# Get Modified Bounds\n",
        "center = (len(img) // 2, len(img[0]) // 2)\n",
        "size = 50\n",
        "xMin = center[0] - (size / 2)\n",
        "xMax = center[0] + (size / 2)\n",
        "yMin = center[1] - (size / 2)\n",
        "yMax = center[1] + (size / 2)\n",
        "#print(xMin, xMax, yMin, yMax)\n",
        "\n",
        "# Modify Image\n",
        "for x in range(len(img)):\n",
        "  for y in range(len(img[x])):\n",
        "    if xMin <= x < xMax and yMin <= y < yMax:\n",
        "      img[x,y] = [0,0,0]\n",
        "\n",
        "# Save Output\n",
        "cv2.imwrite(\"output2.png\", img)\n",
        "print(\"Done\")"
      ],
      "metadata": {
        "colab": {
          "base_uri": "https://localhost:8080/"
        },
        "id": "kAcnFum1pVdL",
        "outputId": "8fcb9cba-34c7-4945-ebb5-3f5a87777665"
      },
      "execution_count": null,
      "outputs": [
        {
          "output_type": "stream",
          "name": "stdout",
          "text": [
            "Done\n"
          ]
        }
      ]
    },
    {
      "cell_type": "markdown",
      "source": [
        "# Problem 3"
      ],
      "metadata": {
        "id": "MvpyFwtnpZ8-"
      }
    },
    {
      "cell_type": "code",
      "source": [
        "import numpy as np\n",
        "\n",
        "solution = np.linalg.solve([[3,3], [4,2]], [[11.25], [10]])\n",
        "print(f'Soft tacos cost ${solution[0][0]:.2f}, and burritos cost ${solution[1][0]:.2f}.')"
      ],
      "metadata": {
        "colab": {
          "base_uri": "https://localhost:8080/"
        },
        "id": "WWIh0rZIpbW9",
        "outputId": "b2f91536-84d2-4c47-cdfa-74724b70af03"
      },
      "execution_count": null,
      "outputs": [
        {
          "output_type": "stream",
          "name": "stdout",
          "text": [
            "Soft tacos cost $1.25, and burritos cost $2.50.\n"
          ]
        }
      ]
    }
  ]
}